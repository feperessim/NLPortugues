{
 "cells": [
  {
   "cell_type": "markdown",
   "metadata": {},
   "source": [
    "<img src=\"https://github.com/alan-barzilay/NLPortugues/blob/master/imagens/logo_nlportugues.png?raw=true\"  style=\"height:65%\" align=\"right\">\n",
    "\n",
    "\n",
    "# Lista 6 - LSTM&GRU \n",
    "**Nome: Felipe de Lima Peressim**\n",
    "\n",
    "**Numero Usp: 11823558**\n",
    "\n",
    "\n",
    "\n",
    "\n",
    "\n",
    "\n",
    "\n",
    "\n",
    "\n",
    "______________\n",
    "\n"
   ]
  },
  {
   "cell_type": "markdown",
   "metadata": {},
   "source": [
    "\n",
    "O objetivo desta lista é fazer com que vocês treinem um modelo de análise de sentimentos utilizando GRU's e LSTM's. Essa lista é semelhante a lista 03 onde aprendemos a usar embeddings e onde você ja recebeu a arquitetura do seu modelo quase pronta. A diferença é que desta vez você ira construir sozinho sua rede e utilizará as camadas que acabamos de aprender: LSTM e GRU.\n",
    " \n",
    "Essa tambêm será a primeira rede recorrente que montaremos, portanto a tokenização será ligeiramente diferente (por exemplo o padding não é mais necessário.)"
   ]
  },
  {
   "cell_type": "code",
   "execution_count": 1,
   "metadata": {},
   "outputs": [],
   "source": [
    "import tensorflow as tf\n",
    "from tensorflow import keras\n",
    "import numpy as np\n",
    "import pandas as pd\n",
    "import matplotlib.pyplot as plt\n",
    "from sklearn.model_selection import train_test_split\n",
    "from tensorflow.keras.layers.experimental.preprocessing import TextVectorization"
   ]
  },
  {
   "cell_type": "code",
   "execution_count": 2,
   "metadata": {},
   "outputs": [
    {
     "data": {
      "text/plain": [
       "'2.2.0'"
      ]
     },
     "execution_count": 2,
     "metadata": {},
     "output_type": "execute_result"
    }
   ],
   "source": [
    "tf.__version__"
   ]
  },
  {
   "cell_type": "markdown",
   "metadata": {},
   "source": [
    "## Importando os dados como um dataframe\n",
    "\n",
    "Para esta lista nós utilizaremos um recorte de 10 mil linhas do dataset **B2W-Reviews01** que consiste em avaliações de mais de 130k compras online no site Americanas.com e [esta disponivel no github](https://github.com/b2wdigital/b2w-reviews01) sob a licensa CC BY-NC-SA 4.01."
   ]
  },
  {
   "cell_type": "code",
   "execution_count": 3,
   "metadata": {
    "scrolled": true
   },
   "outputs": [
    {
     "data": {
      "text/html": [
       "<div>\n",
       "<style scoped>\n",
       "    .dataframe tbody tr th:only-of-type {\n",
       "        vertical-align: middle;\n",
       "    }\n",
       "\n",
       "    .dataframe tbody tr th {\n",
       "        vertical-align: top;\n",
       "    }\n",
       "\n",
       "    .dataframe thead th {\n",
       "        text-align: right;\n",
       "    }\n",
       "</style>\n",
       "<table border=\"1\" class=\"dataframe\">\n",
       "  <thead>\n",
       "    <tr style=\"text-align: right;\">\n",
       "      <th></th>\n",
       "      <th>submission_date</th>\n",
       "      <th>reviewer_id</th>\n",
       "      <th>product_id</th>\n",
       "      <th>product_name</th>\n",
       "      <th>product_brand</th>\n",
       "      <th>site_category_lv1</th>\n",
       "      <th>site_category_lv2</th>\n",
       "      <th>review_title</th>\n",
       "      <th>overall_rating</th>\n",
       "      <th>recommend_to_a_friend</th>\n",
       "      <th>review_text</th>\n",
       "      <th>reviewer_birth_year</th>\n",
       "      <th>reviewer_gender</th>\n",
       "      <th>reviewer_state</th>\n",
       "      <th>Unnamed: 14</th>\n",
       "      <th>Unnamed: 15</th>\n",
       "      <th>Unnamed: 16</th>\n",
       "      <th>Unnamed: 17</th>\n",
       "      <th>Unnamed: 18</th>\n",
       "    </tr>\n",
       "  </thead>\n",
       "  <tbody>\n",
       "    <tr>\n",
       "      <th>0</th>\n",
       "      <td>2018-01-01 00:11:28</td>\n",
       "      <td>d0fb1ca69422530334178f5c8624aa7a99da47907c44de...</td>\n",
       "      <td>132532965</td>\n",
       "      <td>Notebook Asus Vivobook Max X541NA-GO472T Intel...</td>\n",
       "      <td>NaN</td>\n",
       "      <td>Informática</td>\n",
       "      <td>Notebook</td>\n",
       "      <td>Bom</td>\n",
       "      <td>4</td>\n",
       "      <td>Yes</td>\n",
       "      <td>Estou contente com a compra entrega rápida o ú...</td>\n",
       "      <td>1958</td>\n",
       "      <td>F</td>\n",
       "      <td>RJ</td>\n",
       "      <td>NaN</td>\n",
       "      <td>NaN</td>\n",
       "      <td>NaN</td>\n",
       "      <td>NaN</td>\n",
       "      <td>NaN</td>\n",
       "    </tr>\n",
       "    <tr>\n",
       "      <th>1</th>\n",
       "      <td>2018-01-01 00:13:48</td>\n",
       "      <td>014d6dc5a10aed1ff1e6f349fb2b059a2d3de511c7538a...</td>\n",
       "      <td>22562178</td>\n",
       "      <td>Copo Acrílico Com Canudo 500ml Rocie</td>\n",
       "      <td>NaN</td>\n",
       "      <td>Utilidades Domésticas</td>\n",
       "      <td>Copos, Taças e Canecas</td>\n",
       "      <td>Preço imbatível, ótima qualidade</td>\n",
       "      <td>4</td>\n",
       "      <td>Yes</td>\n",
       "      <td>Por apenas R$1994.20,eu consegui comprar esse ...</td>\n",
       "      <td>1996</td>\n",
       "      <td>M</td>\n",
       "      <td>SC</td>\n",
       "      <td>NaN</td>\n",
       "      <td>NaN</td>\n",
       "      <td>NaN</td>\n",
       "      <td>NaN</td>\n",
       "      <td>NaN</td>\n",
       "    </tr>\n",
       "    <tr>\n",
       "      <th>2</th>\n",
       "      <td>2018-01-01 00:26:02</td>\n",
       "      <td>44f2c8edd93471926fff601274b8b2b5c4824e386ae4f2...</td>\n",
       "      <td>113022329</td>\n",
       "      <td>Panela de Pressão Elétrica Philips Walita Dail...</td>\n",
       "      <td>philips walita</td>\n",
       "      <td>Eletroportáteis</td>\n",
       "      <td>Panela Elétrica</td>\n",
       "      <td>ATENDE TODAS AS EXPECTATIVA.</td>\n",
       "      <td>4</td>\n",
       "      <td>Yes</td>\n",
       "      <td>SUPERA EM AGILIDADE E PRATICIDADE OUTRAS PANEL...</td>\n",
       "      <td>1984</td>\n",
       "      <td>M</td>\n",
       "      <td>SP</td>\n",
       "      <td>NaN</td>\n",
       "      <td>NaN</td>\n",
       "      <td>NaN</td>\n",
       "      <td>NaN</td>\n",
       "      <td>NaN</td>\n",
       "    </tr>\n",
       "    <tr>\n",
       "      <th>3</th>\n",
       "      <td>2018-01-01 00:35:54</td>\n",
       "      <td>ce741665c1764ab2d77539e18d0e4f66dde6213c9f0863...</td>\n",
       "      <td>113851581</td>\n",
       "      <td>Betoneira Columbus - Roma Brinquedos</td>\n",
       "      <td>roma jensen</td>\n",
       "      <td>Brinquedos</td>\n",
       "      <td>Veículos de Brinquedo</td>\n",
       "      <td>presente mais que desejado</td>\n",
       "      <td>4</td>\n",
       "      <td>Yes</td>\n",
       "      <td>MEU FILHO AMOU! PARECE DE VERDADE COM TANTOS D...</td>\n",
       "      <td>1985</td>\n",
       "      <td>F</td>\n",
       "      <td>SP</td>\n",
       "      <td>NaN</td>\n",
       "      <td>NaN</td>\n",
       "      <td>NaN</td>\n",
       "      <td>NaN</td>\n",
       "      <td>NaN</td>\n",
       "    </tr>\n",
       "    <tr>\n",
       "      <th>4</th>\n",
       "      <td>2018-01-01 01:00:28</td>\n",
       "      <td>7d7b6b18dda804a897359276cef0ca252f9932bf4b5c8e...</td>\n",
       "      <td>131788803</td>\n",
       "      <td>Smart TV LED 43\" LG 43UJ6525 Ultra HD 4K com C...</td>\n",
       "      <td>lg</td>\n",
       "      <td>TV e Home Theater</td>\n",
       "      <td>TV</td>\n",
       "      <td>Sem duvidas, excelente</td>\n",
       "      <td>5</td>\n",
       "      <td>Yes</td>\n",
       "      <td>A entrega foi no prazo, as americanas estão de...</td>\n",
       "      <td>1994</td>\n",
       "      <td>M</td>\n",
       "      <td>MG</td>\n",
       "      <td>NaN</td>\n",
       "      <td>NaN</td>\n",
       "      <td>NaN</td>\n",
       "      <td>NaN</td>\n",
       "      <td>NaN</td>\n",
       "    </tr>\n",
       "  </tbody>\n",
       "</table>\n",
       "</div>"
      ],
      "text/plain": [
       "       submission_date                                        reviewer_id  \\\n",
       "0  2018-01-01 00:11:28  d0fb1ca69422530334178f5c8624aa7a99da47907c44de...   \n",
       "1  2018-01-01 00:13:48  014d6dc5a10aed1ff1e6f349fb2b059a2d3de511c7538a...   \n",
       "2  2018-01-01 00:26:02  44f2c8edd93471926fff601274b8b2b5c4824e386ae4f2...   \n",
       "3  2018-01-01 00:35:54  ce741665c1764ab2d77539e18d0e4f66dde6213c9f0863...   \n",
       "4  2018-01-01 01:00:28  7d7b6b18dda804a897359276cef0ca252f9932bf4b5c8e...   \n",
       "\n",
       "   product_id                                       product_name  \\\n",
       "0   132532965  Notebook Asus Vivobook Max X541NA-GO472T Intel...   \n",
       "1    22562178               Copo Acrílico Com Canudo 500ml Rocie   \n",
       "2   113022329  Panela de Pressão Elétrica Philips Walita Dail...   \n",
       "3   113851581               Betoneira Columbus - Roma Brinquedos   \n",
       "4   131788803  Smart TV LED 43\" LG 43UJ6525 Ultra HD 4K com C...   \n",
       "\n",
       "    product_brand      site_category_lv1       site_category_lv2  \\\n",
       "0             NaN            Informática                Notebook   \n",
       "1             NaN  Utilidades Domésticas  Copos, Taças e Canecas   \n",
       "2  philips walita        Eletroportáteis         Panela Elétrica   \n",
       "3     roma jensen             Brinquedos   Veículos de Brinquedo   \n",
       "4              lg      TV e Home Theater                      TV   \n",
       "\n",
       "                       review_title  overall_rating recommend_to_a_friend  \\\n",
       "0                               Bom               4                   Yes   \n",
       "1  Preço imbatível, ótima qualidade               4                   Yes   \n",
       "2      ATENDE TODAS AS EXPECTATIVA.               4                   Yes   \n",
       "3        presente mais que desejado               4                   Yes   \n",
       "4            Sem duvidas, excelente               5                   Yes   \n",
       "\n",
       "                                         review_text reviewer_birth_year  \\\n",
       "0  Estou contente com a compra entrega rápida o ú...                1958   \n",
       "1  Por apenas R$1994.20,eu consegui comprar esse ...                1996   \n",
       "2  SUPERA EM AGILIDADE E PRATICIDADE OUTRAS PANEL...                1984   \n",
       "3  MEU FILHO AMOU! PARECE DE VERDADE COM TANTOS D...                1985   \n",
       "4  A entrega foi no prazo, as americanas estão de...                1994   \n",
       "\n",
       "  reviewer_gender reviewer_state Unnamed: 14 Unnamed: 15 Unnamed: 16  \\\n",
       "0               F             RJ         NaN         NaN         NaN   \n",
       "1               M             SC         NaN         NaN         NaN   \n",
       "2               M             SP         NaN         NaN         NaN   \n",
       "3               F             SP         NaN         NaN         NaN   \n",
       "4               M             MG         NaN         NaN         NaN   \n",
       "\n",
       "  Unnamed: 17 Unnamed: 18  \n",
       "0         NaN         NaN  \n",
       "1         NaN         NaN  \n",
       "2         NaN         NaN  \n",
       "3         NaN         NaN  \n",
       "4         NaN         NaN  "
      ]
     },
     "execution_count": 3,
     "metadata": {},
     "output_type": "execute_result"
    }
   ],
   "source": [
    "b2wCorpus = pd.read_csv(\"data/b2w-10k.csv\")\n",
    "b2wCorpus.head()"
   ]
  },
  {
   "cell_type": "code",
   "execution_count": 4,
   "metadata": {},
   "outputs": [
    {
     "data": {
      "text/plain": [
       "0       Estou contente com a compra entrega rápida o ú...\n",
       "1       Por apenas R$1994.20,eu consegui comprar esse ...\n",
       "2       SUPERA EM AGILIDADE E PRATICIDADE OUTRAS PANEL...\n",
       "3       MEU FILHO AMOU! PARECE DE VERDADE COM TANTOS D...\n",
       "4       A entrega foi no prazo, as americanas estão de...\n",
       "                              ...                        \n",
       "9994    Celular muito rápido, com processador e armaze...\n",
       "9995    achei o produto muito frágil, o material veio ...\n",
       "9996    Uma porcaria pois ñ recebi ñ recomendo pra nin...\n",
       "9997    Maquina excelente,super pratica. recomendo.ent...\n",
       "9998    Agradeço pelo compromisso, obrigado. ,...........\n",
       "Name: review_text, Length: 9999, dtype: object"
      ]
     },
     "execution_count": 4,
     "metadata": {},
     "output_type": "execute_result"
    }
   ],
   "source": [
    "b2wCorpus[\"review_text\"]"
   ]
  },
  {
   "cell_type": "markdown",
   "metadata": {},
   "source": [
    "\n",
    "## Pré-processamento \n",
    "# <font color='blue'>Questão 1 </font>\n",
    "Copie suas etapas de préprocessamento da lista 03, ou seja, selecione apenas as colunas relevantes (\"review_text\" e \"recommend_to_a_friend\"), converta a coluna \"review_text\" de uma coluna de `str` para uma coluna de `int` e separe os dados em teste e treino.\n"
   ]
  },
  {
   "cell_type": "code",
   "execution_count": 5,
   "metadata": {},
   "outputs": [
    {
     "data": {
      "text/html": [
       "<div>\n",
       "<style scoped>\n",
       "    .dataframe tbody tr th:only-of-type {\n",
       "        vertical-align: middle;\n",
       "    }\n",
       "\n",
       "    .dataframe tbody tr th {\n",
       "        vertical-align: top;\n",
       "    }\n",
       "\n",
       "    .dataframe thead th {\n",
       "        text-align: right;\n",
       "    }\n",
       "</style>\n",
       "<table border=\"1\" class=\"dataframe\">\n",
       "  <thead>\n",
       "    <tr style=\"text-align: right;\">\n",
       "      <th></th>\n",
       "      <th>recommend_to_a_friend</th>\n",
       "      <th>review_text</th>\n",
       "    </tr>\n",
       "  </thead>\n",
       "  <tbody>\n",
       "    <tr>\n",
       "      <th>0</th>\n",
       "      <td>Yes</td>\n",
       "      <td>Estou contente com a compra entrega rápida o ú...</td>\n",
       "    </tr>\n",
       "    <tr>\n",
       "      <th>1</th>\n",
       "      <td>Yes</td>\n",
       "      <td>Por apenas R$1994.20,eu consegui comprar esse ...</td>\n",
       "    </tr>\n",
       "    <tr>\n",
       "      <th>2</th>\n",
       "      <td>Yes</td>\n",
       "      <td>SUPERA EM AGILIDADE E PRATICIDADE OUTRAS PANEL...</td>\n",
       "    </tr>\n",
       "    <tr>\n",
       "      <th>3</th>\n",
       "      <td>Yes</td>\n",
       "      <td>MEU FILHO AMOU! PARECE DE VERDADE COM TANTOS D...</td>\n",
       "    </tr>\n",
       "    <tr>\n",
       "      <th>4</th>\n",
       "      <td>Yes</td>\n",
       "      <td>A entrega foi no prazo, as americanas estão de...</td>\n",
       "    </tr>\n",
       "  </tbody>\n",
       "</table>\n",
       "</div>"
      ],
      "text/plain": [
       "  recommend_to_a_friend                                        review_text\n",
       "0                   Yes  Estou contente com a compra entrega rápida o ú...\n",
       "1                   Yes  Por apenas R$1994.20,eu consegui comprar esse ...\n",
       "2                   Yes  SUPERA EM AGILIDADE E PRATICIDADE OUTRAS PANEL...\n",
       "3                   Yes  MEU FILHO AMOU! PARECE DE VERDADE COM TANTOS D...\n",
       "4                   Yes  A entrega foi no prazo, as americanas estão de..."
      ]
     },
     "execution_count": 5,
     "metadata": {},
     "output_type": "execute_result"
    }
   ],
   "source": [
    "to_drop = [column for column in b2wCorpus.columns if column != \"review_text\" and column != \"recommend_to_a_friend\"]\n",
    "b2wCorpus.drop(to_drop, axis=1, inplace=True)\n",
    "b2wCorpus.head()\n"
   ]
  },
  {
   "cell_type": "code",
   "execution_count": 6,
   "metadata": {},
   "outputs": [
    {
     "data": {
      "text/html": [
       "<div>\n",
       "<style scoped>\n",
       "    .dataframe tbody tr th:only-of-type {\n",
       "        vertical-align: middle;\n",
       "    }\n",
       "\n",
       "    .dataframe tbody tr th {\n",
       "        vertical-align: top;\n",
       "    }\n",
       "\n",
       "    .dataframe thead th {\n",
       "        text-align: right;\n",
       "    }\n",
       "</style>\n",
       "<table border=\"1\" class=\"dataframe\">\n",
       "  <thead>\n",
       "    <tr style=\"text-align: right;\">\n",
       "      <th></th>\n",
       "      <th>recommend_to_a_friend</th>\n",
       "      <th>review_text</th>\n",
       "    </tr>\n",
       "  </thead>\n",
       "  <tbody>\n",
       "    <tr>\n",
       "      <th>9994</th>\n",
       "      <td>1</td>\n",
       "      <td>Celular muito rápido, com processador e armaze...</td>\n",
       "    </tr>\n",
       "    <tr>\n",
       "      <th>9995</th>\n",
       "      <td>0</td>\n",
       "      <td>achei o produto muito frágil, o material veio ...</td>\n",
       "    </tr>\n",
       "    <tr>\n",
       "      <th>9996</th>\n",
       "      <td>0</td>\n",
       "      <td>Uma porcaria pois ñ recebi ñ recomendo pra nin...</td>\n",
       "    </tr>\n",
       "    <tr>\n",
       "      <th>9997</th>\n",
       "      <td>1</td>\n",
       "      <td>Maquina excelente,super pratica. recomendo.ent...</td>\n",
       "    </tr>\n",
       "    <tr>\n",
       "      <th>9998</th>\n",
       "      <td>1</td>\n",
       "      <td>Agradeço pelo compromisso, obrigado. ,...........</td>\n",
       "    </tr>\n",
       "  </tbody>\n",
       "</table>\n",
       "</div>"
      ],
      "text/plain": [
       "      recommend_to_a_friend                                        review_text\n",
       "9994                      1  Celular muito rápido, com processador e armaze...\n",
       "9995                      0  achei o produto muito frágil, o material veio ...\n",
       "9996                      0  Uma porcaria pois ñ recebi ñ recomendo pra nin...\n",
       "9997                      1  Maquina excelente,super pratica. recomendo.ent...\n",
       "9998                      1  Agradeço pelo compromisso, obrigado. ,..........."
      ]
     },
     "execution_count": 6,
     "metadata": {},
     "output_type": "execute_result"
    }
   ],
   "source": [
    "b2wCorpus['recommend_to_a_friend'] = b2wCorpus['recommend_to_a_friend'].apply(lambda word : 1 if word.lower() == 'yes' else 0)\n",
    "b2wCorpus.tail()"
   ]
  },
  {
   "cell_type": "code",
   "execution_count": 7,
   "metadata": {},
   "outputs": [],
   "source": [
    "x = b2wCorpus['review_text'].values\n",
    "y = b2wCorpus['recommend_to_a_friend'].values\n",
    "x_train, x_val, y_train, y_val = train_test_split(x, y, test_size=0.2)"
   ]
  },
  {
   "cell_type": "code",
   "execution_count": 8,
   "metadata": {},
   "outputs": [
    {
     "name": "stdout",
     "output_type": "stream",
     "text": [
      "Tamanho da menor sentença:  50\n",
      "Tamanho da maior sentença:  1907\n"
     ]
    }
   ],
   "source": [
    "print(\"Tamanho da menor sentença: \", len(min(x, key=len)))\n",
    "print(\"Tamanho da maior sentença: \", len(max(x, key=len)))"
   ]
  },
  {
   "cell_type": "code",
   "execution_count": 9,
   "metadata": {},
   "outputs": [
    {
     "name": "stdout",
     "output_type": "stream",
     "text": [
      "Comprimento de sentença mais frequente no texto:  53\n",
      "Quantidade de vezes em que a sentença mais comum ocorre:  176\n"
     ]
    }
   ],
   "source": [
    "distribution_sentences_len = b2wCorpus['review_text'].apply(len).values\n",
    "most_freq_sentence_length = np.bincount(distribution_sentences_len).argmax()\n",
    "freq = len(b2wCorpus['review_text'][b2wCorpus['review_text'].apply(len) == most_freq_sentence_length])\n",
    "print(\"Comprimento de sentença mais frequente no texto: \", most_freq_sentence_length)\n",
    "print(\"Quantidade de vezes em que a sentença mais comum ocorre: \", freq)"
   ]
  },
  {
   "cell_type": "code",
   "execution_count": 10,
   "metadata": {},
   "outputs": [
    {
     "data": {
      "text/plain": [
       "<matplotlib.axes._subplots.AxesSubplot at 0x7facd851a320>"
      ]
     },
     "execution_count": 10,
     "metadata": {},
     "output_type": "execute_result"
    },
    {
     "data": {
      "image/png": "[encoded data removed]",
      "text/plain": [
       "<Figure size 432x288 with 1 Axes>"
      ]
     },
     "metadata": {
      "needs_background": "light"
     },
     "output_type": "display_data"
    }
   ],
   "source": [
    "import seaborn as sns\n",
    "\n",
    "sns.countplot(x='recommend_to_a_friend', data=b2wCorpus)"
   ]
  },
  {
   "cell_type": "markdown",
   "metadata": {},
   "source": [
    "## Tokenizando\n",
    "\n",
    "\n"
   ]
  },
  {
   "cell_type": "markdown",
   "metadata": {},
   "source": [
    "# <font color='blue'>Questão 2 </font>\n",
    "Utilizando a camada [`TextVectorization`](https://www.tensorflow.org/api_docs/python/tf/keras/layers/experimental/preprocessing/TextVectorization) tokenize os inputs.\n",
    "Declare a camada e então chame a função `adapt()` no seu conjunto de treino para adequar o seu vocabulário aos reviews. \n",
    "\n",
    "Note que o uso de padding não é mais necessario."
   ]
  },
  {
   "cell_type": "code",
   "execution_count": 11,
   "metadata": {},
   "outputs": [
    {
     "name": "stderr",
     "output_type": "stream",
     "text": [
      "/home/felipe/.local/lib/python3.6/site-packages/tensorflow/python/keras/layers/preprocessing/text_vectorization.py:338: VisibleDeprecationWarning: Creating an ndarray from ragged nested sequences (which is a list-or-tuple of lists-or-tuples-or ndarrays with different lengths or shapes) is deprecated. If you meant to do this, you must specify 'dtype=object' when creating the ndarray\n",
      "  return np.array(preprocessed_data.to_list())\n"
     ]
    }
   ],
   "source": [
    "textVecLayer = TextVectorization(output_mode=\"int\", pad_to_max_tokens=False, output_sequence_length=100)                                                              \n",
    "textVecLayer.adapt(x_train)\n",
    "vocab_size = len(textVecLayer.get_vocabulary())\n",
    "MAX_NB_WORDS = vocab_size\n",
    "EMBEDDING_DIM = 128"
   ]
  },
  {
   "cell_type": "markdown",
   "metadata": {},
   "source": [
    "## LSTM&GRU\n",
    "\n",
    "Agora vamos juntar a camada do tokenizador a nossa camada [Embedding](https://www.tensorflow.org/api_docs/python/tf/keras/layers/Embedding) e definir o resto de nosso modelo.\n",
    "\n",
    "#  <font color='blue'>Questão 3 </font>\n",
    "\n",
    "a) Defina, compile, treine e avalie seu modelo, utilize camadas  [LSTM](https://keras.io/api/layers/recurrent_layers/lstm/).\n",
    "Atenção a dimensão do input da camada de embedding, lembre se que < OOV > e < PAD > possuem seus próprios tokens.\n",
    " \n",
    " \n",
    " \n",
    "b) Como foi a performance desta rede em comparação a da lista 3?\n",
    "\n",
    "\n"
   ]
  },
  {
   "cell_type": "markdown",
   "metadata": {},
   "source": [
    "**<font color='red'> Sua resposta aqui </font>**\n",
    "\n",
    "A rede da lista 3 apresentou uma acurácia de 99,60% durante a fase de treinamento da rede, e uma acurácia de 86,06% no conjunto de testes. A rede LSTM aqui utilizada, obteve 88,00% de acurácia no conjunto de treino e 86,00% no conjunto de validação durante a fase de treinamento, e 85,00% de acurácia no conjunto de testes.\n",
    "\n",
    "A rede LSTM exibiu uma performance muito melhor em realação a rede da lista 3, pois, a embora haja uma diferença de 2% entre a acurácia entre os conjuntos de treino e teste, isso não caracteriza um overtiffing, inclusive observando-se os gráficos plotados abaixo, pode-se constatar como as curvas de treino e validação que se encontram próximas uma da outra durante todas as épocas do treinamento. Em contrapartida, observou-se que ocorreu overfitting no modelo da lista 3 quando este exibiu uma diferença de 13% na acurácia entre os conjuntos de treino e teste. Portanto, o modelo LSTM se mostrou mais adequado para problema de processamento de linguagem natural em relação ao anterior utilizado na lista 3."
   ]
  },
  {
   "cell_type": "code",
   "execution_count": 220,
   "metadata": {},
   "outputs": [
    {
     "name": "stdout",
     "output_type": "stream",
     "text": [
      "Epoch 1/20\n",
      "225/225 [==============================] - 30s 133ms/step - loss: 0.5675 - accuracy: 0.7469 - val_loss: 0.5515 - val_accuracy: 0.7588\n",
      "Epoch 2/20\n",
      "225/225 [==============================] - 30s 132ms/step - loss: 0.5257 - accuracy: 0.7559 - val_loss: 0.4485 - val_accuracy: 0.7600\n",
      "Epoch 3/20\n",
      "225/225 [==============================] - 29s 128ms/step - loss: 0.4085 - accuracy: 0.7732 - val_loss: 0.4322 - val_accuracy: 0.7575\n",
      "Epoch 4/20\n",
      "225/225 [==============================] - 30s 134ms/step - loss: 0.4172 - accuracy: 0.7565 - val_loss: 0.4238 - val_accuracy: 0.7663\n",
      "Epoch 5/20\n",
      "225/225 [==============================] - 31s 138ms/step - loss: 0.4289 - accuracy: 0.7472 - val_loss: 0.4435 - val_accuracy: 0.7500\n",
      "Epoch 6/20\n",
      "225/225 [==============================] - 29s 130ms/step - loss: 0.4376 - accuracy: 0.7323 - val_loss: 0.4576 - val_accuracy: 0.7500\n",
      "Epoch 7/20\n",
      "225/225 [==============================] - 31s 137ms/step - loss: 0.4528 - accuracy: 0.7368 - val_loss: 0.4495 - val_accuracy: 0.7500\n",
      "Epoch 8/20\n",
      "225/225 [==============================] - 30s 135ms/step - loss: 0.4493 - accuracy: 0.7383 - val_loss: 0.4408 - val_accuracy: 0.7337\n",
      "Epoch 9/20\n",
      "225/225 [==============================] - 28s 124ms/step - loss: 0.4518 - accuracy: 0.7344 - val_loss: 0.4485 - val_accuracy: 0.7500\n",
      "Epoch 10/20\n",
      "225/225 [==============================] - 29s 130ms/step - loss: 0.4786 - accuracy: 0.7716 - val_loss: 0.4853 - val_accuracy: 0.7912\n",
      "Epoch 11/20\n",
      "225/225 [==============================] - 29s 129ms/step - loss: 0.4789 - accuracy: 0.8062 - val_loss: 0.4737 - val_accuracy: 0.8000\n",
      "Epoch 12/20\n",
      "225/225 [==============================] - 29s 130ms/step - loss: 0.4674 - accuracy: 0.7427 - val_loss: 0.4520 - val_accuracy: 0.7500\n",
      "Epoch 13/20\n",
      "225/225 [==============================] - 28s 126ms/step - loss: 0.4493 - accuracy: 0.7419 - val_loss: 0.4393 - val_accuracy: 0.7500\n",
      "Epoch 14/20\n",
      "225/225 [==============================] - 30s 133ms/step - loss: 0.3914 - accuracy: 0.8304 - val_loss: 0.3769 - val_accuracy: 0.8475\n",
      "Epoch 15/20\n",
      "225/225 [==============================] - 28s 126ms/step - loss: 0.3484 - accuracy: 0.8732 - val_loss: 0.3846 - val_accuracy: 0.8425\n",
      "Epoch 16/20\n",
      "225/225 [==============================] - 29s 127ms/step - loss: 0.3551 - accuracy: 0.8765 - val_loss: 0.4018 - val_accuracy: 0.8425\n",
      "Epoch 17/20\n",
      "225/225 [==============================] - 30s 131ms/step - loss: 0.3528 - accuracy: 0.8793 - val_loss: 0.4005 - val_accuracy: 0.8450\n",
      "Epoch 18/20\n",
      "225/225 [==============================] - 28s 125ms/step - loss: 0.3546 - accuracy: 0.8778 - val_loss: 0.4055 - val_accuracy: 0.8413\n",
      "Epoch 19/20\n",
      "225/225 [==============================] - 29s 127ms/step - loss: 0.3576 - accuracy: 0.8737 - val_loss: 0.4072 - val_accuracy: 0.8413\n",
      "Epoch 20/20\n",
      "225/225 [==============================] - 29s 130ms/step - loss: 0.3578 - accuracy: 0.8794 - val_loss: 0.4164 - val_accuracy: 0.8550\n"
     ]
    }
   ],
   "source": [
    "model = keras.Sequential()\n",
    "model.add(textVecLayer)\n",
    "model.add(keras.layers.Embedding(MAX_NB_WORDS + 2, EMBEDDING_DIM, input_length=100))\n",
    "model.add(keras.layers.LSTM(64, dropout=0.5, return_sequences=True))\n",
    "model.add(keras.layers.LSTM(64, dropout=0.5))\n",
    "model.add(keras.layers.Dense(1, activation='sigmoid'))\n",
    "model.compile(optimizer = 'adam', loss='binary_crossentropy', metrics=['accuracy'])\n",
    "epochs = 20\n",
    "batch_size = 32\n",
    "\n",
    "history = model.fit(x_train, y_train, epochs=epochs, batch_size=batch_size, validation_split=0.1)"
   ]
  },
  {
   "cell_type": "code",
   "execution_count": 224,
   "metadata": {},
   "outputs": [
    {
     "name": "stdout",
     "output_type": "stream",
     "text": [
      "63/63 [==============================] - 1s 23ms/step - loss: 0.4306 - accuracy: 0.8480\n"
     ]
    },
    {
     "data": {
      "text/plain": [
       "[0.43057456612586975, 0.8479999899864197]"
      ]
     },
     "execution_count": 224,
     "metadata": {},
     "output_type": "execute_result"
    }
   ],
   "source": [
    "model.evaluate(x_val, y_val)"
   ]
  },
  {
   "cell_type": "code",
   "execution_count": 225,
   "metadata": {},
   "outputs": [
    {
     "data": {
      "image/png": "[encoded data removed]",
      "text/plain": [
       "<Figure size 432x288 with 1 Axes>"
      ]
     },
     "metadata": {
      "needs_background": "light"
     },
     "output_type": "display_data"
    }
   ],
   "source": [
    "plt.title('Loss - train and validation set')\n",
    "plt.xlabel('epochs')\n",
    "plt.ylabel('Loss')\n",
    "plt.plot(history.history['loss'], label='train')\n",
    "plt.plot(history.history['val_loss'], label='test')\n",
    "plt.legend()\n",
    "plt.show();"
   ]
  },
  {
   "cell_type": "code",
   "execution_count": 226,
   "metadata": {},
   "outputs": [
    {
     "data": {
      "image/png": "[encoded data removed]",
      "text/plain": [
       "<Figure size 432x288 with 1 Axes>"
      ]
     },
     "metadata": {
      "needs_background": "light"
     },
     "output_type": "display_data"
    }
   ],
   "source": [
    "plt.title('Accuracy- train and validation sets')\n",
    "plt.xlabel('epochs')\n",
    "plt.ylabel('Accuracy')\n",
    "plt.plot(history.history['accuracy'], label='train')\n",
    "plt.plot(history.history['val_accuracy'], label='test')\n",
    "plt.legend()\n",
    "plt.show();"
   ]
  },
  {
   "cell_type": "markdown",
   "metadata": {},
   "source": [
    "#  <font color='blue'>Questão 4 </font>\n",
    "\n",
    "a) Defina, compile, treine e avalie seu modelo, utilize camadas [GRU](https://keras.io/api/layers/recurrent_layers/gru/).\n",
    "Atenção a dimensão do input da camada de embedding, lembre se que < OOV > e < PAD > possuem seus próprios tokens.\n",
    " \n",
    " \n",
    " \n",
    "b) Como foi a performance desta rede em comparação a da lista 3?\n"
   ]
  },
  {
   "cell_type": "markdown",
   "metadata": {},
   "source": [
    "**<font color='red'> Sua resposta aqui </font>**\n",
    "\n",
    "A rede GRU obteve um total de 99,62% de acurácia no conjunto de treinamento; no conjunto de validação um total de 85,50%; e no conjunto de testes 88.20% de acurácia. Embora este modelo apresente overfitting, a acurácia no conjunto de testes foi razoavelmente superior a rede da lista 3. No geral o modelo não exibe uma boa performance devido o overfitting, que conforme pode ser observado nos gráficos abaixo, o problema começa a partir da época 5, onde apenas ha melhora no desempenho em relação ao conjunto de treino, enquanto que no conjunto de validação a acurácia fica estagnada."
   ]
  },
  {
   "cell_type": "code",
   "execution_count": 25,
   "metadata": {},
   "outputs": [
    {
     "name": "stdout",
     "output_type": "stream",
     "text": [
      "Epoch 1/20\n",
      "225/225 [==============================] - 35s 157ms/step - loss: 0.5671 - accuracy: 0.7479 - val_loss: 0.5879 - val_accuracy: 0.7200\n",
      "Epoch 2/20\n",
      "225/225 [==============================] - 32s 141ms/step - loss: 0.5636 - accuracy: 0.7508 - val_loss: 0.5864 - val_accuracy: 0.7250\n",
      "Epoch 3/20\n",
      "225/225 [==============================] - 32s 140ms/step - loss: 0.5581 - accuracy: 0.7565 - val_loss: 0.5932 - val_accuracy: 0.7287\n",
      "Epoch 4/20\n",
      "225/225 [==============================] - 30s 133ms/step - loss: 0.5525 - accuracy: 0.7589 - val_loss: 0.5878 - val_accuracy: 0.7300\n",
      "Epoch 5/20\n",
      "225/225 [==============================] - 27s 119ms/step - loss: 0.5515 - accuracy: 0.7595 - val_loss: 0.5944 - val_accuracy: 0.7312\n",
      "Epoch 6/20\n",
      "225/225 [==============================] - 29s 130ms/step - loss: 0.4338 - accuracy: 0.8155 - val_loss: 0.3112 - val_accuracy: 0.8650\n",
      "Epoch 7/20\n",
      "225/225 [==============================] - 28s 125ms/step - loss: 0.2107 - accuracy: 0.9218 - val_loss: 0.2892 - val_accuracy: 0.8888\n",
      "Epoch 8/20\n",
      "225/225 [==============================] - 28s 125ms/step - loss: 0.1335 - accuracy: 0.9553 - val_loss: 0.3525 - val_accuracy: 0.8938\n",
      "Epoch 9/20\n",
      "225/225 [==============================] - 33s 147ms/step - loss: 0.0899 - accuracy: 0.9725 - val_loss: 0.3741 - val_accuracy: 0.8763\n",
      "Epoch 10/20\n",
      "225/225 [==============================] - 35s 157ms/step - loss: 0.0653 - accuracy: 0.9801 - val_loss: 0.3727 - val_accuracy: 0.8725\n",
      "Epoch 11/20\n",
      "225/225 [==============================] - 28s 124ms/step - loss: 0.0507 - accuracy: 0.9865 - val_loss: 0.4810 - val_accuracy: 0.8700\n",
      "Epoch 12/20\n",
      "225/225 [==============================] - 28s 126ms/step - loss: 0.0423 - accuracy: 0.9900 - val_loss: 0.5846 - val_accuracy: 0.8662\n",
      "Epoch 13/20\n",
      "225/225 [==============================] - 28s 126ms/step - loss: 0.0318 - accuracy: 0.9921 - val_loss: 0.5700 - val_accuracy: 0.8612\n",
      "Epoch 14/20\n",
      "225/225 [==============================] - 29s 128ms/step - loss: 0.0297 - accuracy: 0.9922 - val_loss: 0.6000 - val_accuracy: 0.8587\n",
      "Epoch 15/20\n",
      "225/225 [==============================] - 31s 138ms/step - loss: 0.0215 - accuracy: 0.9947 - val_loss: 0.6346 - val_accuracy: 0.8600\n",
      "Epoch 16/20\n",
      "225/225 [==============================] - 29s 128ms/step - loss: 0.0195 - accuracy: 0.9951 - val_loss: 0.7672 - val_accuracy: 0.8537\n",
      "Epoch 17/20\n",
      "225/225 [==============================] - 31s 136ms/step - loss: 0.0195 - accuracy: 0.9949 - val_loss: 0.6959 - val_accuracy: 0.8612\n",
      "Epoch 18/20\n",
      "225/225 [==============================] - 31s 137ms/step - loss: 0.0167 - accuracy: 0.9951 - val_loss: 0.7126 - val_accuracy: 0.8562\n",
      "Epoch 19/20\n",
      "225/225 [==============================] - 38s 168ms/step - loss: 0.0127 - accuracy: 0.9967 - val_loss: 0.8840 - val_accuracy: 0.8550\n",
      "Epoch 20/20\n",
      "225/225 [==============================] - 35s 154ms/step - loss: 0.0149 - accuracy: 0.9962 - val_loss: 0.7944 - val_accuracy: 0.8550\n"
     ]
    }
   ],
   "source": [
    "model = keras.Sequential()\n",
    "model.add(textVecLayer)\n",
    "model.add(keras.layers.Embedding(MAX_NB_WORDS + 2, EMBEDDING_DIM, input_length=100))\n",
    "model.add(keras.layers.GRU(64, dropout=0.5, return_sequences=True))\n",
    "model.add(keras.layers.GRU(64, dropout=0.5))\n",
    "model.add(keras.layers.Dense(1, activation='sigmoid'))\n",
    "model.compile(optimizer = 'adam', loss='binary_crossentropy', metrics=['accuracy'])\n",
    "epochs = 20\n",
    "batch_size = 32\n",
    "\n",
    "history = model.fit(x_train, y_train, epochs=epochs, batch_size=batch_size, validation_split=0.1)"
   ]
  },
  {
   "cell_type": "code",
   "execution_count": 26,
   "metadata": {},
   "outputs": [
    {
     "name": "stdout",
     "output_type": "stream",
     "text": [
      "63/63 [==============================] - 2s 25ms/step - loss: 0.6344 - accuracy: 0.8820\n"
     ]
    },
    {
     "data": {
      "text/plain": [
       "[0.6344143748283386, 0.8820000290870667]"
      ]
     },
     "execution_count": 26,
     "metadata": {},
     "output_type": "execute_result"
    }
   ],
   "source": [
    "model.evaluate(x_val, y_val)"
   ]
  },
  {
   "cell_type": "code",
   "execution_count": 27,
   "metadata": {},
   "outputs": [
    {
     "data": {
      "image/png": "[encoded data removed]",
      "text/plain": [
       "<Figure size 432x288 with 1 Axes>"
      ]
     },
     "metadata": {
      "needs_background": "light"
     },
     "output_type": "display_data"
    }
   ],
   "source": [
    "plt.title('Loss - train and validation set')\n",
    "plt.xlabel('epochs')\n",
    "plt.ylabel('Loss')\n",
    "plt.plot(history.history['loss'], label='train')\n",
    "plt.plot(history.history['val_loss'], label='test')\n",
    "plt.legend()\n",
    "plt.show();"
   ]
  },
  {
   "cell_type": "code",
   "execution_count": 28,
   "metadata": {},
   "outputs": [
    {
     "data": {
      "image/png": "[encoded data removed]",
      "text/plain": [
       "<Figure size 432x288 with 1 Axes>"
      ]
     },
     "metadata": {
      "needs_background": "light"
     },
     "output_type": "display_data"
    }
   ],
   "source": [
    "plt.title('Accuracy- train and validation sets')\n",
    "plt.xlabel('epochs')\n",
    "plt.ylabel('Accuracy')\n",
    "plt.plot(history.history['accuracy'], label='train')\n",
    "plt.plot(history.history['val_accuracy'], label='test')\n",
    "plt.legend()\n",
    "plt.show();"
   ]
  },
  {
   "cell_type": "markdown",
   "metadata": {},
   "source": [
    "## Redes Bi-direcionais\n",
    "#  <font color='blue'>Questão 5 </font>\n",
    "\n",
    "a) Defina, compile, treine e avalie um novo modelo que utilize contexto em ambas as direções usando a camada [`Bidirectional()`](https://keras.io/api/layers/recurrent_layers/bidirectional/), seja com camadas GRU ou LSTM.\n",
    "\n",
    "\n",
    "b) Como foi sua performance em relação as questões anteriores com contexto unidirecional?"
   ]
  },
  {
   "cell_type": "markdown",
   "metadata": {},
   "source": [
    "**<font color='red'> Sua resposta aqui </font>**\n",
    "\n",
    "A performance a rede Bidirecional foi similar a rede GRU, ou seja, caracterizou overfitting ao exibir 99,59% de acurácia no conjunto de treinamento; 85,11% no conjunto de validação; e 85,27% no conjunto de testes. Assim, é necessário que algumas medidas sejam tomadas, como a obtenção de mais dados, experimentação com outras configurações no modelo, etc. Além disso, embora o modelo LSTM não tenha caracterizado overfitting, é de suma imporância realizar mais testes nos modelos, como por exemplo realizar um grid search para encontrar parâmetros ótimos e em seguida realizar um kfold para se obter uma acurácia média com desvio padrão. Assim, poder-se-á  refletir melhor aquilo que o os modelos na realidade representam.\n",
    "\n",
    "A hipótese mais provavel para o overffiting observado nos modelos são devidos ao desbalanço que tem entre as classes que estamos prevendo, quanto a isso, diversas técnicas podem ser usadas para mitigar os efeitos de tal desproporcionalidade. Como combatê-los não era parte do objetivo aqui proposto, tais alternativas poder-se-ão ser utilizadas em exercícios futuros."
   ]
  },
  {
   "cell_type": "code",
   "execution_count": 34,
   "metadata": {},
   "outputs": [
    {
     "name": "stdout",
     "output_type": "stream",
     "text": [
      "Epoch 1/20\n",
      "225/225 [==============================] - 20s 89ms/step - loss: 0.4480 - accuracy: 0.8131 - val_loss: 0.3961 - val_accuracy: 0.8352\n",
      "Epoch 2/20\n",
      "225/225 [==============================] - 20s 87ms/step - loss: 0.3031 - accuracy: 0.8987 - val_loss: 0.4256 - val_accuracy: 0.8309\n",
      "Epoch 3/20\n",
      "225/225 [==============================] - 23s 100ms/step - loss: 0.2157 - accuracy: 0.9364 - val_loss: 0.3713 - val_accuracy: 0.8716\n",
      "Epoch 4/20\n",
      "225/225 [==============================] - 28s 125ms/step - loss: 0.1609 - accuracy: 0.9555 - val_loss: 0.3898 - val_accuracy: 0.8655\n",
      "Epoch 5/20\n",
      "225/225 [==============================] - 32s 142ms/step - loss: 0.1430 - accuracy: 0.9601 - val_loss: 0.3914 - val_accuracy: 0.8595\n",
      "Epoch 6/20\n",
      "225/225 [==============================] - 38s 170ms/step - loss: 0.1149 - accuracy: 0.9698 - val_loss: 0.3999 - val_accuracy: 0.8740\n",
      "Epoch 7/20\n",
      "225/225 [==============================] - 35s 156ms/step - loss: 0.1038 - accuracy: 0.9727 - val_loss: 0.5179 - val_accuracy: 0.8665\n",
      "Epoch 8/20\n",
      "225/225 [==============================] - 33s 145ms/step - loss: 0.0944 - accuracy: 0.9787 - val_loss: 0.4984 - val_accuracy: 0.8534\n",
      "Epoch 9/20\n",
      "225/225 [==============================] - 33s 145ms/step - loss: 0.1023 - accuracy: 0.9744 - val_loss: 0.5878 - val_accuracy: 0.8589\n",
      "Epoch 10/20\n",
      "225/225 [==============================] - 32s 142ms/step - loss: 0.0681 - accuracy: 0.9867 - val_loss: 0.5639 - val_accuracy: 0.8589\n",
      "Epoch 11/20\n",
      "225/225 [==============================] - 32s 143ms/step - loss: 0.0741 - accuracy: 0.9857 - val_loss: 0.6299 - val_accuracy: 0.8627\n",
      "Epoch 12/20\n",
      "225/225 [==============================] - 32s 142ms/step - loss: 0.0442 - accuracy: 0.9925 - val_loss: 0.7271 - val_accuracy: 0.8534\n",
      "Epoch 13/20\n",
      "225/225 [==============================] - 32s 144ms/step - loss: 0.0429 - accuracy: 0.9927 - val_loss: 0.7379 - val_accuracy: 0.8541\n",
      "Epoch 14/20\n",
      "225/225 [==============================] - 34s 151ms/step - loss: 0.0353 - accuracy: 0.9942 - val_loss: 0.7410 - val_accuracy: 0.8541\n",
      "Epoch 15/20\n",
      "225/225 [==============================] - 35s 154ms/step - loss: 0.0432 - accuracy: 0.9926 - val_loss: 0.7749 - val_accuracy: 0.8483\n",
      "Epoch 16/20\n",
      "225/225 [==============================] - 30s 135ms/step - loss: 0.0866 - accuracy: 0.9826 - val_loss: 0.6736 - val_accuracy: 0.8536\n",
      "Epoch 17/20\n",
      "225/225 [==============================] - 25s 109ms/step - loss: 0.0480 - accuracy: 0.9913 - val_loss: 0.7639 - val_accuracy: 0.8581\n",
      "Epoch 18/20\n",
      "225/225 [==============================] - 28s 126ms/step - loss: 0.0257 - accuracy: 0.9959 - val_loss: 0.8293 - val_accuracy: 0.8511\n",
      "Epoch 19/20\n",
      "225/225 [==============================] - 35s 158ms/step - loss: 0.0283 - accuracy: 0.9953 - val_loss: 0.8430 - val_accuracy: 0.8523\n",
      "Epoch 20/20\n",
      "225/225 [==============================] - 28s 123ms/step - loss: 0.1337 - accuracy: 0.9683 - val_loss: 0.5589 - val_accuracy: 0.8288\n"
     ]
    }
   ],
   "source": [
    "model = keras.Sequential()\n",
    "model.add(textVecLayer)\n",
    "model.add(keras.layers.Embedding(MAX_NB_WORDS + 2, EMBEDDING_DIM, input_length=100))\n",
    "forward_layer = keras.layers.LSTM(64, return_sequences=True)\n",
    "backward_layer = keras.layers.LSTM(64, return_sequences=True, go_backwards=True)\n",
    "model.add(keras.layers.Bidirectional(forward_layer, backward_layer=backward_layer))\n",
    "model.add(keras.layers.Dropout(0.5))\n",
    "model.add(keras.layers.Dense(1, activation='sigmoid'))\n",
    "model.compile(optimizer = 'adam', loss='binary_crossentropy', metrics=['accuracy'])\n",
    "\n",
    "epochs = 20\n",
    "batch_size = 32\n",
    "history = model.fit(x_train, y_train, epochs=epochs, batch_size=batch_size, validation_split=0.1)"
   ]
  },
  {
   "cell_type": "code",
   "execution_count": 35,
   "metadata": {},
   "outputs": [
    {
     "name": "stdout",
     "output_type": "stream",
     "text": [
      "63/63 [==============================] - 1s 18ms/step - loss: 0.4978 - accuracy: 0.8527\n"
     ]
    },
    {
     "data": {
      "text/plain": [
       "[0.49777376651763916, 0.8527100086212158]"
      ]
     },
     "execution_count": 35,
     "metadata": {},
     "output_type": "execute_result"
    }
   ],
   "source": [
    "model.evaluate(x_val, y_val)"
   ]
  },
  {
   "cell_type": "code",
   "execution_count": 36,
   "metadata": {},
   "outputs": [
    {
     "data": {
      "image/png": "[encoded data removed]",
      "text/plain": [
       "<Figure size 432x288 with 1 Axes>"
      ]
     },
     "metadata": {
      "needs_background": "light"
     },
     "output_type": "display_data"
    }
   ],
   "source": [
    "plt.title('Loss - train and validation set')\n",
    "plt.xlabel('epochs')\n",
    "plt.ylabel('Loss')\n",
    "plt.plot(history.history['loss'], label='train')\n",
    "plt.plot(history.history['val_loss'], label='test')\n",
    "plt.legend()\n",
    "plt.show();"
   ]
  },
  {
   "cell_type": "code",
   "execution_count": 37,
   "metadata": {},
   "outputs": [
    {
     "data": {
      "image/png": "[encoded data removed]",
      "text/plain": [
       "<Figure size 432x288 with 1 Axes>"
      ]
     },
     "metadata": {
      "needs_background": "light"
     },
     "output_type": "display_data"
    }
   ],
   "source": [
    "plt.title('Accuracy- train and validation sets')\n",
    "plt.xlabel('epochs')\n",
    "plt.ylabel('Accuracy')\n",
    "plt.plot(history.history['accuracy'], label='train')\n",
    "plt.plot(history.history['val_accuracy'], label='test')\n",
    "plt.legend()\n",
    "plt.show();"
   ]
  },
  {
   "cell_type": "code",
   "execution_count": null,
   "metadata": {},
   "outputs": [],
   "source": []
  }
 ],
 "metadata": {
  "kernelspec": {
   "display_name": "Python 3",
   "language": "python",
   "name": "python3"
  },
  "language_info": {
   "codemirror_mode": {
    "name": "ipython",
    "version": 3
   },
   "file_extension": ".py",
   "mimetype": "text/x-python",
   "name": "python",
   "nbconvert_exporter": "python",
   "pygments_lexer": "ipython3",
   "version": "3.6.9"
  }
 },
 "nbformat": 4,
 "nbformat_minor": 4
}
