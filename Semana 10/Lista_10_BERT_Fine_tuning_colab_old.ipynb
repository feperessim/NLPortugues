{
  "nbformat": 4,
  "nbformat_minor": 0,
  "metadata": {
    "kernelspec": {
      "display_name": "Python 3",
      "language": "python",
      "name": "python3"
    },
    "language_info": {
      "codemirror_mode": {
        "name": "ipython",
        "version": 3
      },
      "file_extension": ".py",
      "mimetype": "text/x-python",
      "name": "python",
      "nbconvert_exporter": "python",
      "pygments_lexer": "ipython3",
      "version": "3.6.9"
    },
    "colab": {
      "name": "Lista 10 - BERT Fine-tuning.ipynb",
      "provenance": [],
      "collapsed_sections": []
    },
    "accelerator": "GPU"
  },
  "cells": [
    {
      "cell_type": "markdown",
      "metadata": {
        "id": "iYf9kDk_cYiF"
      },
      "source": [
        "<img src=\"https://github.com/alan-barzilay/NLPortugues/blob/master/imagens/logo_nlportugues.png?raw=true\"  style=\"height:65%\" align=\"right\">\n",
        "\n",
        "\n",
        "# Lista10 - BERT\n",
        "**Nome: Felipe de Lima Peressim** \n",
        "\n",
        "**Numero Usp: 11823558** \n",
        "\n",
        "\n",
        "\n",
        "\n",
        "\n",
        "\n",
        "\n",
        "\n",
        "\n",
        "______________\n",
        "\n"
      ]
    },
    {
      "cell_type": "markdown",
      "metadata": {
        "id": "iG-MVF4QcYiH"
      },
      "source": [
        "\n",
        "O objetivo desta lista é fazer com que vocês se familiarizem com o BERT por meio da biblioteca HuggingFace. Novamente, as questões 1 2 e 3 podem ser copiadas de listas anteriores."
      ]
    },
    {
      "cell_type": "code",
      "metadata": {
        "id": "LELNdqcOcYiH",
        "outputId": "f76872a7-09d7-40d9-a94f-fffce9d6809c",
        "colab": {
          "base_uri": "https://localhost:8080/"
        }
      },
      "source": [
        "!pip install transformers"
      ],
      "execution_count": 1,
      "outputs": [
        {
          "output_type": "stream",
          "text": [
            "Collecting transformers\n",
            "\u001b[?25l  Downloading https://files.pythonhosted.org/packages/2c/4e/4f1ede0fd7a36278844a277f8d53c21f88f37f3754abf76a5d6224f76d4a/transformers-3.4.0-py3-none-any.whl (1.3MB)\n",
            "\u001b[K     |████████████████████████████████| 1.3MB 4.5MB/s \n",
            "\u001b[?25hRequirement already satisfied: dataclasses; python_version < \"3.7\" in /usr/local/lib/python3.6/dist-packages (from transformers) (0.7)\n",
            "Requirement already satisfied: requests in /usr/local/lib/python3.6/dist-packages (from transformers) (2.23.0)\n",
            "Collecting sentencepiece!=0.1.92\n",
            "\u001b[?25l  Downloading https://files.pythonhosted.org/packages/e5/2d/6d4ca4bef9a67070fa1cac508606328329152b1df10bdf31fb6e4e727894/sentencepiece-0.1.94-cp36-cp36m-manylinux2014_x86_64.whl (1.1MB)\n",
            "\u001b[K     |████████████████████████████████| 1.1MB 39.9MB/s \n",
            "\u001b[?25hRequirement already satisfied: tqdm>=4.27 in /usr/local/lib/python3.6/dist-packages (from transformers) (4.41.1)\n",
            "Collecting tokenizers==0.9.2\n",
            "\u001b[?25l  Downloading https://files.pythonhosted.org/packages/7c/a5/78be1a55b2ac8d6a956f0a211d372726e2b1dd2666bb537fea9b03abd62c/tokenizers-0.9.2-cp36-cp36m-manylinux1_x86_64.whl (2.9MB)\n",
            "\u001b[K     |████████████████████████████████| 2.9MB 43.5MB/s \n",
            "\u001b[?25hRequirement already satisfied: numpy in /usr/local/lib/python3.6/dist-packages (from transformers) (1.18.5)\n",
            "Requirement already satisfied: filelock in /usr/local/lib/python3.6/dist-packages (from transformers) (3.0.12)\n",
            "Collecting sacremoses\n",
            "\u001b[?25l  Downloading https://files.pythonhosted.org/packages/7d/34/09d19aff26edcc8eb2a01bed8e98f13a1537005d31e95233fd48216eed10/sacremoses-0.0.43.tar.gz (883kB)\n",
            "\u001b[K     |████████████████████████████████| 890kB 41.0MB/s \n",
            "\u001b[?25hRequirement already satisfied: protobuf in /usr/local/lib/python3.6/dist-packages (from transformers) (3.12.4)\n",
            "Requirement already satisfied: packaging in /usr/local/lib/python3.6/dist-packages (from transformers) (20.4)\n",
            "Requirement already satisfied: regex!=2019.12.17 in /usr/local/lib/python3.6/dist-packages (from transformers) (2019.12.20)\n",
            "Requirement already satisfied: chardet<4,>=3.0.2 in /usr/local/lib/python3.6/dist-packages (from requests->transformers) (3.0.4)\n",
            "Requirement already satisfied: idna<3,>=2.5 in /usr/local/lib/python3.6/dist-packages (from requests->transformers) (2.10)\n",
            "Requirement already satisfied: certifi>=2017.4.17 in /usr/local/lib/python3.6/dist-packages (from requests->transformers) (2020.6.20)\n",
            "Requirement already satisfied: urllib3!=1.25.0,!=1.25.1,<1.26,>=1.21.1 in /usr/local/lib/python3.6/dist-packages (from requests->transformers) (1.24.3)\n",
            "Requirement already satisfied: six in /usr/local/lib/python3.6/dist-packages (from sacremoses->transformers) (1.15.0)\n",
            "Requirement already satisfied: click in /usr/local/lib/python3.6/dist-packages (from sacremoses->transformers) (7.1.2)\n",
            "Requirement already satisfied: joblib in /usr/local/lib/python3.6/dist-packages (from sacremoses->transformers) (0.17.0)\n",
            "Requirement already satisfied: setuptools in /usr/local/lib/python3.6/dist-packages (from protobuf->transformers) (50.3.2)\n",
            "Requirement already satisfied: pyparsing>=2.0.2 in /usr/local/lib/python3.6/dist-packages (from packaging->transformers) (2.4.7)\n",
            "Building wheels for collected packages: sacremoses\n",
            "  Building wheel for sacremoses (setup.py) ... \u001b[?25l\u001b[?25hdone\n",
            "  Created wheel for sacremoses: filename=sacremoses-0.0.43-cp36-none-any.whl size=893257 sha256=27929ddbae322a2d28edf747131b023a47ec25b858cd1f101758561811678cbe\n",
            "  Stored in directory: /root/.cache/pip/wheels/29/3c/fd/7ce5c3f0666dab31a50123635e6fb5e19ceb42ce38d4e58f45\n",
            "Successfully built sacremoses\n",
            "Installing collected packages: sentencepiece, tokenizers, sacremoses, transformers\n",
            "Successfully installed sacremoses-0.0.43 sentencepiece-0.1.94 tokenizers-0.9.2 transformers-3.4.0\n"
          ],
          "name": "stdout"
        }
      ]
    },
    {
      "cell_type": "code",
      "metadata": {
        "id": "aNfBUlGzcYiM",
        "outputId": "35dac899-4ce3-4eb6-a01c-71f9be4b8099",
        "colab": {
          "base_uri": "https://localhost:8080/"
        }
      },
      "source": [
        "!nvidia-smi"
      ],
      "execution_count": 2,
      "outputs": [
        {
          "output_type": "stream",
          "text": [
            "Fri Nov  6 21:24:33 2020       \n",
            "+-----------------------------------------------------------------------------+\n",
            "| NVIDIA-SMI 455.32.00    Driver Version: 418.67       CUDA Version: 10.1     |\n",
            "|-------------------------------+----------------------+----------------------+\n",
            "| GPU  Name        Persistence-M| Bus-Id        Disp.A | Volatile Uncorr. ECC |\n",
            "| Fan  Temp  Perf  Pwr:Usage/Cap|         Memory-Usage | GPU-Util  Compute M. |\n",
            "|                               |                      |               MIG M. |\n",
            "|===============================+======================+======================|\n",
            "|   0  Tesla T4            Off  | 00000000:00:04.0 Off |                    0 |\n",
            "| N/A   40C    P8     9W /  70W |      0MiB / 15079MiB |      0%      Default |\n",
            "|                               |                      |                 ERR! |\n",
            "+-------------------------------+----------------------+----------------------+\n",
            "                                                                               \n",
            "+-----------------------------------------------------------------------------+\n",
            "| Processes:                                                                  |\n",
            "|  GPU   GI   CI        PID   Type   Process name                  GPU Memory |\n",
            "|        ID   ID                                                   Usage      |\n",
            "|=============================================================================|\n",
            "|  No running processes found                                                 |\n",
            "+-----------------------------------------------------------------------------+\n"
          ],
          "name": "stdout"
        }
      ]
    },
    {
      "cell_type": "code",
      "metadata": {
        "id": "bSfvQH9qcYiQ"
      },
      "source": [
        "import tensorflow as tf\n",
        "import numpy as np\n",
        "import pandas as pd\n",
        "import matplotlib.pyplot as plt\n",
        "from transformers import (\n",
        "    BertTokenizer,\n",
        "    TFBertForSequenceClassification,\n",
        "    TFTrainer,\n",
        "    TFTrainingArguments,\n",
        ")\n",
        "from sklearn.model_selection import train_test_split"
      ],
      "execution_count": 3,
      "outputs": []
    },
    {
      "cell_type": "markdown",
      "metadata": {
        "id": "a9JIpB1icYiT"
      },
      "source": [
        "### Importando os dados como um dataframe\n",
        "\n",
        "Para esta lista nós utilizaremos o dataset **B2W-Reviews01** que consiste em avaliações de mais de 130k compras online no site Americanas.com e [esta disponivel no github](https://github.com/b2wdigital/b2w-reviews01) sob a licensa CC BY-NC-SA 4.01."
      ]
    },
    {
      "cell_type": "code",
      "metadata": {
        "scrolled": true,
        "id": "S0cdGK9dcYiT",
        "outputId": "843af6c8-f053-43f9-8f9c-823140e4607d",
        "colab": {
          "base_uri": "https://localhost:8080/",
          "height": 600
        }
      },
      "source": [
        "#b2wCorpus = pd.read_csv(\"https://raw.githubusercontent.com/abarbosa94/NLPortugues/master/Semana%2009/data/b2w-10k.csv\")\n",
        "b2wCorpus = pd.read_csv(\"https://raw.githubusercontent.com/b2wdigital/b2w-reviews01/master/B2W-Reviews01.csv\",  sep=';', error_bad_lines=False)\n",
        "b2wCorpus.head()"
      ],
      "execution_count": 57,
      "outputs": [
        {
          "output_type": "stream",
          "text": [
            "/usr/local/lib/python3.6/dist-packages/IPython/core/interactiveshell.py:2718: DtypeWarning: Columns (2) have mixed types.Specify dtype option on import or set low_memory=False.\n",
            "  interactivity=interactivity, compiler=compiler, result=result)\n"
          ],
          "name": "stderr"
        },
        {
          "output_type": "execute_result",
          "data": {
            "text/html": [
              "<div>\n",
              "<style scoped>\n",
              "    .dataframe tbody tr th:only-of-type {\n",
              "        vertical-align: middle;\n",
              "    }\n",
              "\n",
              "    .dataframe tbody tr th {\n",
              "        vertical-align: top;\n",
              "    }\n",
              "\n",
              "    .dataframe thead th {\n",
              "        text-align: right;\n",
              "    }\n",
              "</style>\n",
              "<table border=\"1\" class=\"dataframe\">\n",
              "  <thead>\n",
              "    <tr style=\"text-align: right;\">\n",
              "      <th></th>\n",
              "      <th>submission_date</th>\n",
              "      <th>reviewer_id</th>\n",
              "      <th>product_id</th>\n",
              "      <th>product_name</th>\n",
              "      <th>product_brand</th>\n",
              "      <th>site_category_lv1</th>\n",
              "      <th>site_category_lv2</th>\n",
              "      <th>review_title</th>\n",
              "      <th>overall_rating</th>\n",
              "      <th>recommend_to_a_friend</th>\n",
              "      <th>review_text</th>\n",
              "      <th>reviewer_birth_year</th>\n",
              "      <th>reviewer_gender</th>\n",
              "      <th>reviewer_state</th>\n",
              "    </tr>\n",
              "  </thead>\n",
              "  <tbody>\n",
              "    <tr>\n",
              "      <th>0</th>\n",
              "      <td>2018-01-01 00:11:28</td>\n",
              "      <td>d0fb1ca69422530334178f5c8624aa7a99da47907c44de...</td>\n",
              "      <td>132532965</td>\n",
              "      <td>Notebook Asus Vivobook Max X541NA-GO472T Intel...</td>\n",
              "      <td>NaN</td>\n",
              "      <td>Informática</td>\n",
              "      <td>Notebook</td>\n",
              "      <td>Bom</td>\n",
              "      <td>4</td>\n",
              "      <td>Yes</td>\n",
              "      <td>Estou contente com a compra entrega rápida o ú...</td>\n",
              "      <td>1958.0</td>\n",
              "      <td>F</td>\n",
              "      <td>RJ</td>\n",
              "    </tr>\n",
              "    <tr>\n",
              "      <th>1</th>\n",
              "      <td>2018-01-01 00:13:48</td>\n",
              "      <td>014d6dc5a10aed1ff1e6f349fb2b059a2d3de511c7538a...</td>\n",
              "      <td>22562178</td>\n",
              "      <td>Copo Acrílico Com Canudo 500ml Rocie</td>\n",
              "      <td>NaN</td>\n",
              "      <td>Utilidades Domésticas</td>\n",
              "      <td>Copos, Taças e Canecas</td>\n",
              "      <td>Preço imbatível, ótima qualidade</td>\n",
              "      <td>4</td>\n",
              "      <td>Yes</td>\n",
              "      <td>Por apenas R$1994.20,eu consegui comprar esse ...</td>\n",
              "      <td>1996.0</td>\n",
              "      <td>M</td>\n",
              "      <td>SC</td>\n",
              "    </tr>\n",
              "    <tr>\n",
              "      <th>2</th>\n",
              "      <td>2018-01-01 00:26:02</td>\n",
              "      <td>44f2c8edd93471926fff601274b8b2b5c4824e386ae4f2...</td>\n",
              "      <td>113022329</td>\n",
              "      <td>Panela de Pressão Elétrica Philips Walita Dail...</td>\n",
              "      <td>philips walita</td>\n",
              "      <td>Eletroportáteis</td>\n",
              "      <td>Panela Elétrica</td>\n",
              "      <td>ATENDE TODAS AS EXPECTATIVA.</td>\n",
              "      <td>4</td>\n",
              "      <td>Yes</td>\n",
              "      <td>SUPERA EM AGILIDADE E PRATICIDADE OUTRAS PANEL...</td>\n",
              "      <td>1984.0</td>\n",
              "      <td>M</td>\n",
              "      <td>SP</td>\n",
              "    </tr>\n",
              "    <tr>\n",
              "      <th>3</th>\n",
              "      <td>2018-01-01 00:35:54</td>\n",
              "      <td>ce741665c1764ab2d77539e18d0e4f66dde6213c9f0863...</td>\n",
              "      <td>113851581</td>\n",
              "      <td>Betoneira Columbus - Roma Brinquedos</td>\n",
              "      <td>roma jensen</td>\n",
              "      <td>Brinquedos</td>\n",
              "      <td>Veículos de Brinquedo</td>\n",
              "      <td>presente mais que desejado</td>\n",
              "      <td>4</td>\n",
              "      <td>Yes</td>\n",
              "      <td>MEU FILHO AMOU! PARECE DE VERDADE COM TANTOS D...</td>\n",
              "      <td>1985.0</td>\n",
              "      <td>F</td>\n",
              "      <td>SP</td>\n",
              "    </tr>\n",
              "    <tr>\n",
              "      <th>4</th>\n",
              "      <td>2018-01-01 01:00:28</td>\n",
              "      <td>7d7b6b18dda804a897359276cef0ca252f9932bf4b5c8e...</td>\n",
              "      <td>131788803</td>\n",
              "      <td>Smart TV LED 43\" LG 43UJ6525 Ultra HD 4K com C...</td>\n",
              "      <td>lg</td>\n",
              "      <td>TV e Home Theater</td>\n",
              "      <td>TV</td>\n",
              "      <td>Sem duvidas, excelente</td>\n",
              "      <td>5</td>\n",
              "      <td>Yes</td>\n",
              "      <td>A entrega foi no prazo, as americanas estão de...</td>\n",
              "      <td>1994.0</td>\n",
              "      <td>M</td>\n",
              "      <td>MG</td>\n",
              "    </tr>\n",
              "  </tbody>\n",
              "</table>\n",
              "</div>"
            ],
            "text/plain": [
              "       submission_date  ... reviewer_state\n",
              "0  2018-01-01 00:11:28  ...             RJ\n",
              "1  2018-01-01 00:13:48  ...             SC\n",
              "2  2018-01-01 00:26:02  ...             SP\n",
              "3  2018-01-01 00:35:54  ...             SP\n",
              "4  2018-01-01 01:00:28  ...             MG\n",
              "\n",
              "[5 rows x 14 columns]"
            ]
          },
          "metadata": {
            "tags": []
          },
          "execution_count": 57
        }
      ]
    },
    {
      "cell_type": "code",
      "metadata": {
        "id": "cTIdMGJEcYiX",
        "outputId": "c7288625-aea0-4b18-f794-367838e33c1f",
        "colab": {
          "base_uri": "https://localhost:8080/"
        }
      },
      "source": [
        "b2wCorpus[\"review_text\"]"
      ],
      "execution_count": 58,
      "outputs": [
        {
          "output_type": "execute_result",
          "data": {
            "text/plain": [
              "0         Estou contente com a compra entrega rápida o ú...\n",
              "1         Por apenas R$1994.20,eu consegui comprar esse ...\n",
              "2         SUPERA EM AGILIDADE E PRATICIDADE OUTRAS PANEL...\n",
              "3         MEU FILHO AMOU! PARECE DE VERDADE COM TANTOS D...\n",
              "4         A entrega foi no prazo, as americanas estão de...\n",
              "                                ...                        \n",
              "132368    Vale muito, estou usando no controle do Xbox e...\n",
              "132369    Prático e barato, super indico o produto para ...\n",
              "132370    Chegou antes do prazo previsto e corresponde a...\n",
              "132371    Material fraco, poderia ser melhor. Ficou deve...\n",
              "132372    Comprei esse produto, quando chegou estava com...\n",
              "Name: review_text, Length: 132373, dtype: object"
            ]
          },
          "metadata": {
            "tags": []
          },
          "execution_count": 58
        }
      ]
    },
    {
      "cell_type": "markdown",
      "metadata": {
        "id": "iQ3HBW4GcYia"
      },
      "source": [
        "\n",
        "### Pré-processamento\n",
        "Seria util nos livrarmos das colunas que não são relevantes para o nosso problema e tambem verificar se não tem nada de esquisito nas colunas que vamos utilizar. \n",
        "Por exemplo, se fossemos utilizar a coluna \"reviewer_gender\" nós precisariamos nos livrar desses valores esquisitos:"
      ]
    },
    {
      "cell_type": "code",
      "metadata": {
        "id": "xzFjJTIZcYib",
        "outputId": "8b0f05aa-8e66-4b95-8eda-f13d202de3f5",
        "colab": {
          "base_uri": "https://localhost:8080/"
        }
      },
      "source": [
        "b2wCorpus[\"reviewer_gender\"].value_counts()"
      ],
      "execution_count": 60,
      "outputs": [
        {
          "output_type": "execute_result",
          "data": {
            "text/plain": [
              "M    66166\n",
              "F    62071\n",
              "Name: reviewer_gender, dtype: int64"
            ]
          },
          "metadata": {
            "tags": []
          },
          "execution_count": 60
        }
      ]
    },
    {
      "cell_type": "markdown",
      "metadata": {
        "id": "cTlJBilFcYie"
      },
      "source": [
        "## <font color='blue'>Questão 1 </font>\n",
        "\n",
        "a) Selecione apenas as colunas relevantes: \"review_text\" e \"recommend_to_a_friend\". \n",
        "\n",
        "b) Converta a coluna \"recommend_to_a_friend\" de uma coluna de `str` para uma coluna de `int`:\n",
        "\n",
        "- \"Yes\"-> 1\n",
        "- \"No\" -> 0\n"
      ]
    },
    {
      "cell_type": "code",
      "metadata": {
        "id": "SaSK4tNzcYif"
      },
      "source": [
        "b2wCorpus['recommend_to_a_friend'] = b2wCorpus['recommend_to_a_friend'].apply(lambda word : 1 if str(word).lower() == 'yes' else 0)\n",
        "x = b2wCorpus['review_text'].values.astype('str')\n",
        "y = b2wCorpus['recommend_to_a_friend'].values"
      ],
      "execution_count": 61,
      "outputs": []
    },
    {
      "cell_type": "markdown",
      "metadata": {
        "id": "QovmCsSjcYii"
      },
      "source": [
        "### Separando em teste e treino\n",
        "## <font color='blue'>Questão 2 </font>\n",
        "\n",
        "Agora com o dataset já pré-processado, separe o em 2 partes, um conjunto de teste e um conjunto de treino. Novamente você pode utilizar a função [train_test_split()](https://scikit-learn.org/stable/modules/generated/sklearn.model_selection.train_test_split.html) do Scikit-Learn como na lista passada."
      ]
    },
    {
      "cell_type": "code",
      "metadata": {
        "id": "IfsQV-krcYij"
      },
      "source": [
        "x_train, x_val, y_train, y_val = train_test_split(x, y, test_size=0.3)"
      ],
      "execution_count": 62,
      "outputs": []
    },
    {
      "cell_type": "markdown",
      "metadata": {
        "id": "T2D8ZThAcYil"
      },
      "source": [
        "### Tokenizando\n",
        "\n",
        "Para aplicar o processo de _Tokenize_ dos nossos dados, diferente das listas anteriores, utilizaremos a classe [BertTokenizer](https://huggingface.co/transformers/master/model_doc/bert.html#berttokenizer) da biblioteca [transformers](https://github.com/huggingface/transformers) do HuggingFace.\n",
        "\n",
        "Para isso, veja o exemplo abaixo:\n"
      ]
    },
    {
      "cell_type": "code",
      "metadata": {
        "id": "9eJ23t5McYim"
      },
      "source": [
        "#REF_MODEL = 'neuralmind/bert-base-portuguese-cased'\n",
        "#tokenizer = BertTokenizer.from_pretrained(REF_MODEL)\n",
        "#text = pd.DataFrame([\"isso é um text\", \"o rato roeu a roupa\", \"do rei de Roma\"])"
      ],
      "execution_count": 37,
      "outputs": []
    },
    {
      "cell_type": "code",
      "metadata": {
        "id": "N7kzmQaVcYip"
      },
      "source": [
        "#SEQ_LEN=5\n",
        "#encoded_text = tokenizer(\n",
        "#    text.values.tolist(),\n",
        "#    text_pair=None,\n",
        "#    is_split_into_words=True,\n",
        "#    padding=\"max_length\",\n",
        "#    truncation=True,\n",
        "#    max_length=SEQ_LEN,\n",
        "#    pad_to_max_length=True,\n",
        "#    return_tensors='tf'\n",
        "#)\n",
        "#encoded_text_labels = np.array([0,0,1])"
      ],
      "execution_count": 38,
      "outputs": []
    },
    {
      "cell_type": "code",
      "metadata": {
        "id": "NvB5s_zTcYir"
      },
      "source": [
        "#encoded_text"
      ],
      "execution_count": 39,
      "outputs": []
    },
    {
      "cell_type": "markdown",
      "metadata": {
        "id": "nqWYdOtfcYiu"
      },
      "source": [
        "Como é possível ver, o resultado gera um dicionário com 3 chaves, representando diferentes tensores:\n",
        "\n",
        "    - input_ids (os arrays de entrada convertidos para inteiro)\n",
        "    - token_type_ids (Indicação se pertence a sentença A ou B [0 é sentença A e 1 é sentença B])\n",
        "    - attention_mask (indicando quais tokens foram mascarados. Como todos os tokens **não** foram mascarados, o valor aqui sempre é 1)"
      ]
    },
    {
      "cell_type": "markdown",
      "metadata": {
        "id": "rT4SM5u_cYiv"
      },
      "source": [
        "## <font color='blue'>Questão 3 </font>\n",
        "\n",
        "Aplique o tokenizer nos dados de treino e teste, gerando duas variáveis **encoded_train** e **encoded_test**, considerando o max_length como o tamanho da sentença ideal. Plotamos um histograma do comprimento dos reviews para lhe auxiliar nessa decisão."
      ]
    },
    {
      "cell_type": "code",
      "metadata": {
        "id": "WvyL96-KcYiv",
        "outputId": "c2a19eed-03b5-4b98-8491-6c4858ba6de7",
        "colab": {
          "base_uri": "https://localhost:8080/",
          "height": 265
        }
      },
      "source": [
        "plt.hist([len(linha.split()) for linha in b2wCorpus[\"review_text\"]])\n",
        "plt.show()"
      ],
      "execution_count": 63,
      "outputs": [
        {
          "output_type": "display_data",
          "data": {
            "image/png": "[encoded data removed]",
            "text/plain": [
              "<Figure size 432x288 with 1 Axes>"
            ]
          },
          "metadata": {
            "tags": [],
            "needs_background": "light"
          }
        }
      ]
    },
    {
      "cell_type": "code",
      "metadata": {
        "id": "RA1q5qOhcYiy"
      },
      "source": [
        "#REF_MODEL = \"bert-base-multilingual-cased\"\n",
        "REF_MODEL = 'neuralmind/bert-base-portuguese-cased'\n",
        "tokenizer = BertTokenizer.from_pretrained(REF_MODEL)"
      ],
      "execution_count": 76,
      "outputs": []
    },
    {
      "cell_type": "code",
      "metadata": {
        "scrolled": true,
        "id": "1itnzlREcYi1"
      },
      "source": [
        "SEQUENCE_MAXLEN = 50\n",
        "\n",
        "encoded_train = tokenizer(\n",
        "    [[line] for line in x_train],\n",
        "    text_pair=None,\n",
        "    is_split_into_words=True,\n",
        "    padding=\"max_length\",\n",
        "    truncation=True,\n",
        "    max_length=SEQUENCE_MAXLEN,\n",
        "    pad_to_max_length=True,\n",
        "    return_tensors='np'\n",
        ")"
      ],
      "execution_count": 77,
      "outputs": []
    },
    {
      "cell_type": "code",
      "metadata": {
        "id": "9kf9wGcMcYi5"
      },
      "source": [
        "encoded_valid = tokenizer(\n",
        "   [[line] for line in x_val],\n",
        "    text_pair=None,\n",
        "    is_split_into_words=True,\n",
        "    padding=\"max_length\",\n",
        "    truncation=True,\n",
        "    max_length=SEQUENCE_MAXLEN,\n",
        "    pad_to_max_length=True,\n",
        "    return_tensors='np'\n",
        ")"
      ],
      "execution_count": 78,
      "outputs": []
    },
    {
      "cell_type": "code",
      "metadata": {
        "id": "BP_4QMaecYi7",
        "outputId": "2c712552-bb37-4dab-fb06-5fd2cea77f03",
        "colab": {
          "base_uri": "https://localhost:8080/"
        }
      },
      "source": [
        "encoded_train.keys()"
      ],
      "execution_count": 79,
      "outputs": [
        {
          "output_type": "execute_result",
          "data": {
            "text/plain": [
              "dict_keys(['input_ids', 'token_type_ids', 'attention_mask'])"
            ]
          },
          "metadata": {
            "tags": []
          },
          "execution_count": 79
        }
      ]
    },
    {
      "cell_type": "code",
      "metadata": {
        "id": "rNYHn-05cYi_",
        "outputId": "40959541-b006-4ab1-90a6-1f362837193b",
        "colab": {
          "base_uri": "https://localhost:8080/"
        }
      },
      "source": [
        "encoded_train['input_ids'].shape"
      ],
      "execution_count": 80,
      "outputs": [
        {
          "output_type": "execute_result",
          "data": {
            "text/plain": [
              "(92661, 50)"
            ]
          },
          "metadata": {
            "tags": []
          },
          "execution_count": 80
        }
      ]
    },
    {
      "cell_type": "markdown",
      "metadata": {
        "id": "KBAoGVTycYjB"
      },
      "source": [
        "### Montando o modelo\n",
        "\n",
        "Para montar o modelo, iremos utilizar a classe TFBertForSequenceClassification, do HuggingFace\n",
        "\n",
        "Aqui tem um exemplo de código para vocês seguirem!\n"
      ]
    },
    {
      "cell_type": "code",
      "metadata": {
        "id": "-XlAuvvscYjC"
      },
      "source": [
        "#bert_model = TFBertForSequenceClassification.from_pretrained(REF_MODEL, from_pt=True, num_labels=2)\n",
        "#input_ids = tf.keras.layers.Input(shape=(SEQ_LEN,), name='input_token', dtype='int32')\n",
        "#input_masks_ids = tf.keras.layers.Input(shape=(SEQ_LEN,), name='masked_token', dtype='int32')#\n",
        "\n",
        "#X = bert_model(input_ids, input_masks_ids)"
      ],
      "execution_count": 81,
      "outputs": []
    },
    {
      "cell_type": "code",
      "metadata": {
        "id": "hcM9GXR7cYjF"
      },
      "source": [
        "#model = tf.keras.Model(inputs=[input_ids, input_masks_ids], outputs = X)\n",
        "#model.summary()"
      ],
      "execution_count": 82,
      "outputs": []
    },
    {
      "cell_type": "code",
      "metadata": {
        "id": "8GdoItuqcYjH"
      },
      "source": [
        "#opt = tf.keras.optimizers.RMSprop(learning_rate=1e-5)\n",
        "#my_callbacks = [tf.keras.callbacks.EarlyStopping(patience=2)]\n",
        "#model.compile(opt, \"sparse_categorical_crossentropy\", metrics=[\"acc\"])"
      ],
      "execution_count": 83,
      "outputs": []
    },
    {
      "cell_type": "code",
      "metadata": {
        "id": "0PTLerypcYjK"
      },
      "source": [
        "#history = model.fit(\n",
        "#    [encoded_text[\"input_ids\"], encoded_text[\"attention_mask\"]],\n",
        "#    encoded_text_labels,\n",
        "#    batch_size=32,\n",
        "#    epochs=2,\n",
        "#    callbacks=my_callbacks,\n",
        "#)"
      ],
      "execution_count": 84,
      "outputs": []
    },
    {
      "cell_type": "markdown",
      "metadata": {
        "id": "1LDf2uAkcYjM"
      },
      "source": [
        "## Treinando e avaliando seu modelo\n",
        "\n",
        "###  <font color='blue'>Questão 4 </font>\n",
        "\n",
        "Defina e treine seu modelo.\n",
        "\n",
        "**Lembre-se de tambem adicionar os dados de validação do modelo**"
      ]
    },
    {
      "cell_type": "code",
      "metadata": {
        "id": "YOK5q2jAcYjN",
        "outputId": "65fb829d-36fc-42ad-d413-71c35e8ac4ce",
        "colab": {
          "base_uri": "https://localhost:8080/"
        }
      },
      "source": [
        "bert_model = TFBertForSequenceClassification.from_pretrained(REF_MODEL, from_pt=True, num_labels=2)\n",
        "input_ids = tf.keras.layers.Input(shape=(SEQUENCE_MAXLEN,), name='input_token', dtype='int32')\n",
        "input_masks_ids = tf.keras.layers.Input(shape=(SEQUENCE_MAXLEN,), name='masked_token', dtype='int32')\n",
        "\n",
        "X = bert_model(input_ids, input_masks_ids)"
      ],
      "execution_count": 85,
      "outputs": [
        {
          "output_type": "stream",
          "text": [
            "Some weights of the PyTorch model were not used when initializing the TF 2.0 model TFBertForSequenceClassification: ['cls.seq_relationship.bias', 'cls.predictions.transform.LayerNorm.weight', 'cls.predictions.transform.dense.weight', 'cls.predictions.decoder.weight', 'cls.predictions.transform.LayerNorm.bias', 'cls.predictions.transform.dense.bias', 'cls.predictions.bias', 'cls.seq_relationship.weight']\n",
            "- This IS expected if you are initializing TFBertForSequenceClassification from a PyTorch model trained on another task or with another architecture (e.g. initializing a TFBertForSequenceClassification model from a BertForPretraining model).\n",
            "- This IS NOT expected if you are initializing TFBertForSequenceClassification from a PyTorch model that you expect to be exactly identical (e.g. initializing a TFBertForSequenceClassification model from a BertForSequenceClassification model).\n",
            "Some weights or buffers of the TF 2.0 model TFBertForSequenceClassification were not initialized from the PyTorch model and are newly initialized: ['classifier.weight', 'classifier.bias']\n",
            "You should probably TRAIN this model on a down-stream task to be able to use it for predictions and inference.\n"
          ],
          "name": "stderr"
        }
      ]
    },
    {
      "cell_type": "code",
      "metadata": {
        "id": "I8HBmDqacYjQ"
      },
      "source": [
        "model = tf.keras.Model(inputs=[input_ids, input_masks_ids], outputs = X)"
      ],
      "execution_count": 86,
      "outputs": []
    },
    {
      "cell_type": "code",
      "metadata": {
        "id": "dxFglmH4cYjT"
      },
      "source": [
        "opt = tf.keras.optimizers.Adam()\n",
        "my_callbacks = [tf.keras.callbacks.EarlyStopping(patience=2)]\n",
        "model.compile(opt, \"sparse_categorical_crossentropy\", metrics=[\"acc\"])"
      ],
      "execution_count": 87,
      "outputs": []
    },
    {
      "cell_type": "code",
      "metadata": {
        "id": "acT0CSFpcYjX",
        "outputId": "b3b510fd-ce72-4e1e-e21b-7b10220ac781",
        "colab": {
          "base_uri": "https://localhost:8080/"
        }
      },
      "source": [
        "history = model.fit(\n",
        "    [encoded_train[\"input_ids\"],\n",
        "     encoded_train[\"attention_mask\"]],\n",
        "    y_train,\n",
        "    batch_size=64,\n",
        "    epochs=5,\n",
        "    callbacks=my_callbacks,\n",
        "    validation_data = ([encoded_valid[\"input_ids\"],\n",
        "                       encoded_valid[\"attention_mask\"]],\n",
        "                       y_val)\n",
        ")    "
      ],
      "execution_count": 89,
      "outputs": [
        {
          "output_type": "stream",
          "text": [
            "Epoch 1/5\n",
            "1448/1448 [==============================] - 1009s 697ms/step - loss: 0.6932 - acc: 0.7283 - val_loss: 0.6931 - val_acc: 0.7273\n",
            "Epoch 2/5\n",
            "1448/1448 [==============================] - 1013s 699ms/step - loss: 0.6932 - acc: 0.7283 - val_loss: 0.6931 - val_acc: 0.7273\n",
            "Epoch 3/5\n",
            "1448/1448 [==============================] - 1011s 698ms/step - loss: 0.6932 - acc: 0.7283 - val_loss: 0.6931 - val_acc: 0.7273\n"
          ],
          "name": "stdout"
        }
      ]
    },
    {
      "cell_type": "code",
      "metadata": {
        "id": "Dl_stHhuevGL"
      },
      "source": [
        ""
      ],
      "execution_count": null,
      "outputs": []
    }
  ]
}